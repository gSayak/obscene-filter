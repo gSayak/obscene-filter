{
  "nbformat": 4,
  "nbformat_minor": 0,
  "metadata": {
    "colab": {
      "name": "Untitled24.ipynb",
      "provenance": []
    },
    "kernelspec": {
      "name": "python3",
      "display_name": "Python 3"
    },
    "language_info": {
      "name": "python"
    }
  },
  "cells": [
    {
      "cell_type": "code",
      "source": [
        "!pip install tensorflowjs"
      ],
      "metadata": {
        "id": "IjyyAeyy73mE"
      },
      "execution_count": null,
      "outputs": []
    },
    {
      "cell_type": "code",
      "execution_count": null,
      "metadata": {
        "id": "YM9IlIuAwd-S"
      },
      "outputs": [],
      "source": [
        "import pandas as pd\n",
        "import os\n",
        "import glob as gb\n",
        "from tensorflow import keras\n",
        "import tensorflow as tf\n",
        "import matplotlib.pyplot as plt\n",
        "\n",
        "import tensorflowjs as tfjs\n",
        "\n",
        "\n",
        "\n",
        "from keras.models import Sequential\n",
        "from keras.layers import Conv2D\n",
        "from keras.layers import MaxPooling2D\n",
        "from keras.layers import Flatten\n",
        "from keras.layers import Dense\n",
        "from keras.layers import GlobalAveragePooling2D"
      ]
    },
    {
      "cell_type": "code",
      "source": [
        "TRAIN_DIR = \"/content/drive/MyDrive/A/DATA/data/train\"\n",
        "TEST_DIR = \"/content/drive/MyDrive/A/DATA/data/test\"\n",
        "BATCH_SIZE=64"
      ],
      "metadata": {
        "id": "4vITEzf7wvjS"
      },
      "execution_count": null,
      "outputs": []
    },
    {
      "cell_type": "code",
      "source": [
        "from keras.preprocessing.image import ImageDataGenerator\n",
        "\n",
        "train_datagen = ImageDataGenerator(rescale = 1./255,\n",
        "                                   shear_range = 0.2,\n",
        "                                   zoom_range = 0.2,\n",
        "                                   horizontal_flip = True)\n",
        "\n",
        "test_datagen = ImageDataGenerator(rescale = 1./255)\n",
        "\n",
        "training_set = train_datagen.flow_from_directory(TRAIN_DIR,\n",
        "                                                 target_size = (128, 128),\n",
        "                                                 batch_size = BATCH_SIZE,\n",
        "                                                 class_mode = 'binary')\n",
        "\n",
        "test_set = test_datagen.flow_from_directory(TEST_DIR,\n",
        "                                            target_size = (128, 128),\n",
        "                                            batch_size = BATCH_SIZE,\n",
        "                                            class_mode = 'binary')\n",
        "train_datagen"
      ],
      "metadata": {
        "colab": {
          "base_uri": "https://localhost:8080/"
        },
        "id": "vG4H8a-oyLFw",
        "outputId": "77ec1967-f6d6-4d97-dabe-8543f200bf36"
      },
      "execution_count": 30,
      "outputs": [
        {
          "output_type": "stream",
          "name": "stdout",
          "text": [
            "Found 149 images belonging to 2 classes.\n",
            "Found 10 images belonging to 2 classes.\n"
          ]
        },
        {
          "output_type": "execute_result",
          "data": {
            "text/plain": [
              "<keras.preprocessing.image.ImageDataGenerator at 0x7fe7e0dc2090>"
            ]
          },
          "metadata": {},
          "execution_count": 30
        }
      ]
    },
    {
      "cell_type": "code",
      "source": [
        "test_set.class_indices"
      ],
      "metadata": {
        "colab": {
          "base_uri": "https://localhost:8080/"
        },
        "id": "I_GPyi4ZHCKz",
        "outputId": "e4fb99de-7cd5-4ef5-faf5-42469fd1abb1"
      },
      "execution_count": 31,
      "outputs": [
        {
          "output_type": "execute_result",
          "data": {
            "text/plain": [
              "{'appropriate': 0, 'inappropriate': 1}"
            ]
          },
          "metadata": {},
          "execution_count": 31
        }
      ]
    },
    {
      "cell_type": "code",
      "source": [
        "# Initialising the CNN\n",
        "classifier = Sequential()\n",
        "\n",
        "# Step 1 - Convolution\n",
        "classifier.add(Conv2D(16, (3, 3), input_shape = (128, 128, 3), activation = 'relu'))\n",
        "\n",
        "# Step 2 - Pooling\n",
        "classifier.add(MaxPooling2D(pool_size = (2, 2)))\n",
        "\n",
        "# Adding a second convolutional layer\n",
        "classifier.add(Conv2D(32, (3, 3), activation = 'relu'))\n",
        "classifier.add(MaxPooling2D(pool_size = (2, 2)))\n",
        "\n",
        "\n",
        "\n",
        "# Step 3 - Flattening\n",
        "classifier.add(GlobalAveragePooling2D())\n",
        "\n",
        "# Step 4 - Full connection\n",
        "classifier.add(Dense(units = 128, activation = 'relu'))\n",
        "\n",
        "classifier.add(Dense(units = 1, activation = 'sigmoid'))\n",
        "\n",
        "# Compiling the CNN\n",
        "classifier.compile(optimizer = 'adam', loss = 'binary_crossentropy', metrics = ['accuracy'])"
      ],
      "metadata": {
        "id": "yJbJ-MqzyQoS"
      },
      "execution_count": null,
      "outputs": []
    },
    {
      "cell_type": "code",
      "source": [
        "## model summary\n",
        "classifier.summary()"
      ],
      "metadata": {
        "colab": {
          "base_uri": "https://localhost:8080/"
        },
        "id": "MjhN-dzFyVA-",
        "outputId": "683689d4-0e7a-4d05-c4e8-b5a42605f8cb"
      },
      "execution_count": null,
      "outputs": [
        {
          "output_type": "stream",
          "name": "stdout",
          "text": [
            "Model: \"sequential\"\n",
            "_________________________________________________________________\n",
            " Layer (type)                Output Shape              Param #   \n",
            "=================================================================\n",
            " conv2d (Conv2D)             (None, 126, 126, 16)      448       \n",
            "                                                                 \n",
            " max_pooling2d (MaxPooling2D  (None, 63, 63, 16)       0         \n",
            " )                                                               \n",
            "                                                                 \n",
            " conv2d_1 (Conv2D)           (None, 61, 61, 32)        4640      \n",
            "                                                                 \n",
            " max_pooling2d_1 (MaxPooling  (None, 30, 30, 32)       0         \n",
            " 2D)                                                             \n",
            "                                                                 \n",
            " global_average_pooling2d (G  (None, 32)               0         \n",
            " lobalAveragePooling2D)                                          \n",
            "                                                                 \n",
            " dense (Dense)               (None, 128)               4224      \n",
            "                                                                 \n",
            " dense_1 (Dense)             (None, 1)                 129       \n",
            "                                                                 \n",
            "=================================================================\n",
            "Total params: 9,441\n",
            "Trainable params: 9,441\n",
            "Non-trainable params: 0\n",
            "_________________________________________________________________\n"
          ]
        }
      ]
    },
    {
      "cell_type": "code",
      "source": [
        "training_set,test_set"
      ],
      "metadata": {
        "colab": {
          "base_uri": "https://localhost:8080/"
        },
        "id": "Y6bJTnLP0CPX",
        "outputId": "a781ecee-ae90-45f7-bde4-c198a7be6d44"
      },
      "execution_count": null,
      "outputs": [
        {
          "output_type": "execute_result",
          "data": {
            "text/plain": [
              "(<keras.preprocessing.image.DirectoryIterator at 0x7fe7e6c2fa10>,\n",
              " <keras.preprocessing.image.DirectoryIterator at 0x7fe7e6c2fb50>)"
            ]
          },
          "metadata": {},
          "execution_count": 11
        }
      ]
    },
    {
      "cell_type": "code",
      "source": [
        " classifier.fit(training_set, epochs = 20)"
      ],
      "metadata": {
        "colab": {
          "base_uri": "https://localhost:8080/"
        },
        "id": "OfjnTqrpyaX6",
        "outputId": "f407ebc8-bb5c-4a31-accf-cc2e7aab16d3"
      },
      "execution_count": null,
      "outputs": [
        {
          "output_type": "stream",
          "name": "stdout",
          "text": [
            "Epoch 1/20\n",
            "3/3 [==============================] - 8s 1s/step - loss: 0.7043 - accuracy: 0.3624\n",
            "Epoch 2/20\n",
            "3/3 [==============================] - 4s 2s/step - loss: 0.6656 - accuracy: 0.6980\n",
            "Epoch 3/20\n",
            "3/3 [==============================] - 4s 2s/step - loss: 0.6440 - accuracy: 0.6980\n",
            "Epoch 4/20\n",
            "3/3 [==============================] - 4s 2s/step - loss: 0.6211 - accuracy: 0.6980\n",
            "Epoch 5/20\n",
            "3/3 [==============================] - 5s 2s/step - loss: 0.6152 - accuracy: 0.6980\n",
            "Epoch 6/20\n",
            "3/3 [==============================] - 4s 909ms/step - loss: 0.6148 - accuracy: 0.6980\n",
            "Epoch 7/20\n",
            "3/3 [==============================] - 4s 2s/step - loss: 0.6191 - accuracy: 0.6980\n",
            "Epoch 8/20\n",
            "3/3 [==============================] - 4s 962ms/step - loss: 0.6165 - accuracy: 0.6980\n",
            "Epoch 9/20\n",
            "3/3 [==============================] - 4s 907ms/step - loss: 0.6112 - accuracy: 0.6980\n",
            "Epoch 10/20\n",
            "3/3 [==============================] - 4s 913ms/step - loss: 0.6079 - accuracy: 0.6980\n",
            "Epoch 11/20\n",
            "3/3 [==============================] - 4s 932ms/step - loss: 0.6088 - accuracy: 0.6980\n",
            "Epoch 12/20\n",
            "3/3 [==============================] - 4s 878ms/step - loss: 0.6044 - accuracy: 0.6980\n",
            "Epoch 13/20\n",
            "3/3 [==============================] - 4s 2s/step - loss: 0.6026 - accuracy: 0.6980\n",
            "Epoch 14/20\n",
            "3/3 [==============================] - 4s 2s/step - loss: 0.6003 - accuracy: 0.6980\n",
            "Epoch 15/20\n",
            "3/3 [==============================] - 4s 842ms/step - loss: 0.5988 - accuracy: 0.6980\n",
            "Epoch 16/20\n",
            "3/3 [==============================] - 4s 897ms/step - loss: 0.5928 - accuracy: 0.6980\n",
            "Epoch 17/20\n",
            "3/3 [==============================] - 4s 962ms/step - loss: 0.5889 - accuracy: 0.6980\n",
            "Epoch 18/20\n",
            "3/3 [==============================] - 4s 2s/step - loss: 0.5857 - accuracy: 0.6980\n",
            "Epoch 19/20\n",
            "3/3 [==============================] - 4s 2s/step - loss: 0.5812 - accuracy: 0.6980\n",
            "Epoch 20/20\n",
            "3/3 [==============================] - 4s 2s/step - loss: 0.5794 - accuracy: 0.6980\n"
          ]
        },
        {
          "output_type": "execute_result",
          "data": {
            "text/plain": [
              "<keras.callbacks.History at 0x7fe7e7fb5dd0>"
            ]
          },
          "metadata": {},
          "execution_count": 12
        }
      ]
    },
    {
      "cell_type": "code",
      "source": [
        "classifier.evaluate(test_set)"
      ],
      "metadata": {
        "id": "1hb9hcmExGZp",
        "colab": {
          "base_uri": "https://localhost:8080/"
        },
        "outputId": "989fd5c6-a2bd-4cc3-b383-44d6daea12aa"
      },
      "execution_count": null,
      "outputs": [
        {
          "output_type": "stream",
          "name": "stdout",
          "text": [
            "1/1 [==============================] - 0s 362ms/step - loss: 0.7641 - accuracy: 0.5000\n"
          ]
        },
        {
          "output_type": "execute_result",
          "data": {
            "text/plain": [
              "[0.7640935182571411, 0.5]"
            ]
          },
          "metadata": {},
          "execution_count": 13
        }
      ]
    },
    {
      "cell_type": "code",
      "source": [
        "import cv2\n",
        "import numpy as np"
      ],
      "metadata": {
        "id": "ik8rNm8KEFkX"
      },
      "execution_count": null,
      "outputs": []
    },
    {
      "cell_type": "code",
      "source": [
        "img = cv2.imread('/content/drive/MyDrive/A/DATA/data/train/inappropriate/naked20.jpeg')\n",
        "plt.imshow(img)\n",
        "plt.show()"
      ],
      "metadata": {
        "id": "ptdM7BDkEL6J"
      },
      "execution_count": null,
      "outputs": []
    },
    {
      "cell_type": "code",
      "source": [
        "resize = tf.image.resize(img, (128,128))\n",
        "plt.imshow(resize.numpy().astype(int))\n",
        "plt.show()"
      ],
      "metadata": {
        "id": "OTUCBYuFEtRu"
      },
      "execution_count": null,
      "outputs": []
    },
    {
      "cell_type": "code",
      "source": [
        "example =classifier.predict(np.expand_dims(resize/255, 0))\n",
        "example"
      ],
      "metadata": {
        "colab": {
          "base_uri": "https://localhost:8080/"
        },
        "id": "FpXdzeKtE7fu",
        "outputId": "e934101d-962d-4417-81fc-b36304504949"
      },
      "execution_count": 37,
      "outputs": [
        {
          "output_type": "execute_result",
          "data": {
            "text/plain": [
              "array([[0.18715215]], dtype=float32)"
            ]
          },
          "metadata": {},
          "execution_count": 37
        }
      ]
    },
    {
      "cell_type": "code",
      "source": [
        "tfjs.converters.save_keras_model(classifier, '/content/model')"
      ],
      "metadata": {
        "id": "06ppOjPqxGb3"
      },
      "execution_count": null,
      "outputs": []
    },
    {
      "cell_type": "code",
      "source": [
        "!zip -r /content/model.zip /content/model"
      ],
      "metadata": {
        "id": "46M7i1JExGeq",
        "colab": {
          "base_uri": "https://localhost:8080/"
        },
        "outputId": "82ee07ad-23d3-4ef0-cf66-ae68301bce7c"
      },
      "execution_count": null,
      "outputs": [
        {
          "output_type": "stream",
          "name": "stdout",
          "text": [
            "  adding: content/model/ (stored 0%)\n",
            "  adding: content/model/group1-shard1of1.bin (deflated 8%)\n",
            "  adding: content/model/model.json (deflated 78%)\n"
          ]
        }
      ]
    },
    {
      "cell_type": "code",
      "source": [
        ""
      ],
      "metadata": {
        "id": "ctC7_hPmxGhI"
      },
      "execution_count": null,
      "outputs": []
    },
    {
      "cell_type": "code",
      "source": [
        ""
      ],
      "metadata": {
        "id": "MZulzDFpxGmK"
      },
      "execution_count": null,
      "outputs": []
    },
    {
      "cell_type": "code",
      "source": [
        ""
      ],
      "metadata": {
        "id": "jFUk3zaJxGnU"
      },
      "execution_count": null,
      "outputs": []
    },
    {
      "cell_type": "code",
      "source": [
        ""
      ],
      "metadata": {
        "id": "L2WiFG93xGqp"
      },
      "execution_count": null,
      "outputs": []
    }
  ]
}