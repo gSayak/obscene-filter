{
  "cells": [
    {
      "cell_type": "code",
      "source": [
        "!pip install tensorflowjs"
      ],
      "metadata": {
        "id": "knFUX4fVZjNF"
      },
      "execution_count": null,
      "outputs": []
    },
    {
      "cell_type": "markdown",
      "metadata": {
        "id": "hNZlQxugQlqJ"
      },
      "source": [
        "Importing all the necessary dependencies"
      ]
    },
    {
      "cell_type": "code",
      "execution_count": 22,
      "metadata": {
        "id": "jNk8lODYQlqS"
      },
      "outputs": [],
      "source": [
        "import tensorflow as tf\n",
        "import tensorflowjs as tfjs\n",
        "import pandas as pd\n",
        "import numpy as np"
      ]
    },
    {
      "cell_type": "code",
      "source": [
        "from google.colab import drive\n",
        "drive.mount('/content/drive')"
      ],
      "metadata": {
        "colab": {
          "base_uri": "https://localhost:8080/"
        },
        "id": "dDjdmiGJQrUa",
        "outputId": "11c5f52e-0723-42dc-9a6a-e7e3b4f3b485"
      },
      "execution_count": 2,
      "outputs": [
        {
          "output_type": "stream",
          "name": "stdout",
          "text": [
            "Mounted at /content/drive\n"
          ]
        }
      ]
    },
    {
      "cell_type": "markdown",
      "metadata": {
        "id": "LUQ_RgZDQlqU"
      },
      "source": [
        "Importing the dataset"
      ]
    },
    {
      "cell_type": "code",
      "execution_count": 3,
      "metadata": {
        "id": "ISjIxgDCQlqX"
      },
      "outputs": [],
      "source": [
        "rawDataset = pd.read_csv('/content/drive/MyDrive/Codes/finalData.csv', index_col=[0])"
      ]
    },
    {
      "cell_type": "code",
      "execution_count": 4,
      "metadata": {
        "id": "0_Yk21J4QlqZ"
      },
      "outputs": [],
      "source": [
        "rawDataset['text'] = rawDataset['text'].values.astype('str')"
      ]
    },
    {
      "cell_type": "markdown",
      "metadata": {
        "id": "HQuLR2VGQlqa"
      },
      "source": [
        "Tokenizing the word vocab"
      ]
    },
    {
      "cell_type": "code",
      "execution_count": 5,
      "metadata": {
        "colab": {
          "base_uri": "https://localhost:8080/"
        },
        "id": "GXw2QxrEQlqa",
        "outputId": "16c32ca5-2402-4fe9-aa50-5286c90115c6"
      },
      "outputs": [
        {
          "output_type": "execute_result",
          "data": {
            "text/plain": [
              "217799"
            ]
          },
          "metadata": {},
          "execution_count": 5
        }
      ],
      "source": [
        "tokenizer = tf.keras.preprocessing.text.Tokenizer()\n",
        "tokenizer.oov_token = '<shobdobhandarErBahire>'\n",
        "tokenizer.fit_on_texts(rawDataset['text'])\n",
        "vocab = tokenizer.word_index\n",
        "vocabSize = len(vocab)\n",
        "vocabSize"
      ]
    },
    {
      "cell_type": "markdown",
      "metadata": {
        "id": "-Y3m9CnLQlqf"
      },
      "source": [
        "Testing the tokenized words"
      ]
    },
    {
      "cell_type": "markdown",
      "metadata": {
        "id": "gU_1nOpDQlqg"
      },
      "source": [
        "Sequencing the whole dataset and padding to uniform shape"
      ]
    },
    {
      "cell_type": "code",
      "execution_count": 6,
      "metadata": {
        "colab": {
          "base_uri": "https://localhost:8080/"
        },
        "id": "fisJ-JXJQlqh",
        "outputId": "46f0f600-8bbb-40cd-ad28-36d394aa91f4"
      },
      "outputs": [
        {
          "output_type": "execute_result",
          "data": {
            "text/plain": [
              "((184354, 1403), array([[    0,     0,     0, ...,    17,   669,    75],\n",
              "        [    0,     0,     0, ...,    21,  7480,  1142],\n",
              "        [    0,     0,     0, ...,    16, 16598,  7024],\n",
              "        ...,\n",
              "        [    0,     0,     0, ...,   548,   794,  9428],\n",
              "        [    0,     0,     0, ...,     3,    38,    57],\n",
              "        [    0,     0,     0, ...,     5, 17461,    82]], dtype=int32))"
            ]
          },
          "metadata": {},
          "execution_count": 6
        }
      ],
      "source": [
        "textData = tokenizer.texts_to_sequences(rawDataset['text'])\n",
        "paddedTextData = tf.keras.preprocessing.sequence.pad_sequences(textData, padding='pre')\n",
        "paddedTextData.shape, paddedTextData"
      ]
    },
    {
      "cell_type": "markdown",
      "metadata": {
        "id": "cRbMxWhVQlqi"
      },
      "source": [
        "Splitting into training and testing datasets"
      ]
    },
    {
      "cell_type": "code",
      "execution_count": 7,
      "metadata": {
        "id": "TOdh9CcfQlqj"
      },
      "outputs": [],
      "source": [
        "trainLength = 150000\n",
        "\n",
        "\n",
        "xTrain = paddedTextData[:trainLength]\n",
        "yTrain = rawDataset['is_offensive'].to_numpy()[:trainLength]\n",
        "\n",
        "xTest = paddedTextData[trainLength:]\n",
        "yTest = rawDataset['is_offensive'].to_numpy()[trainLength:]"
      ]
    },
    {
      "cell_type": "code",
      "execution_count": 8,
      "metadata": {
        "colab": {
          "base_uri": "https://localhost:8080/"
        },
        "id": "laqpuem9Qlqk",
        "outputId": "bfa82e51-1752-4a8a-8df0-72958f95400d"
      },
      "outputs": [
        {
          "output_type": "execute_result",
          "data": {
            "text/plain": [
              "((34354,), (34354, 1403))"
            ]
          },
          "metadata": {},
          "execution_count": 8
        }
      ],
      "source": [
        "yTest.shape, xTest.shape"
      ]
    },
    {
      "cell_type": "markdown",
      "metadata": {
        "id": "ewN3mIesQlql"
      },
      "source": [
        "Defining the model"
      ]
    },
    {
      "cell_type": "code",
      "execution_count": 9,
      "metadata": {
        "id": "FgruU995Qlqo"
      },
      "outputs": [],
      "source": [
        "model = tf.keras.Sequential()\n",
        "model.add(tf.keras.layers.Embedding(vocabSize, 64, input_length=1403))\n",
        "model.add(tf.keras.layers.GlobalAveragePooling1D())\n",
        "model.add(tf.keras.layers.Dense(32, activation='relu'))\n",
        "model.add(tf.keras.layers.Dense(1, activation='sigmoid'))\n",
        "\n",
        "model.compile(loss='binary_crossentropy', optimizer='adam', metrics=['accuracy'])"
      ]
    },
    {
      "cell_type": "markdown",
      "metadata": {
        "id": "IWLjeastQlqp"
      },
      "source": [
        "Training the model"
      ]
    },
    {
      "cell_type": "code",
      "execution_count": 10,
      "metadata": {
        "colab": {
          "base_uri": "https://localhost:8080/"
        },
        "id": "VFR0NgD-Qlqq",
        "outputId": "25fe346d-f198-4e9c-a5b2-4951462978b4"
      },
      "outputs": [
        {
          "output_type": "stream",
          "name": "stdout",
          "text": [
            "Epoch 1/5\n",
            "4688/4688 [==============================] - 58s 11ms/step - loss: 0.3365 - accuracy: 0.8678\n",
            "Epoch 2/5\n",
            "4688/4688 [==============================] - 52s 11ms/step - loss: 0.1778 - accuracy: 0.9386\n",
            "Epoch 3/5\n",
            "4688/4688 [==============================] - 52s 11ms/step - loss: 0.1378 - accuracy: 0.9516\n",
            "Epoch 4/5\n",
            "4688/4688 [==============================] - 52s 11ms/step - loss: 0.1176 - accuracy: 0.9587\n",
            "Epoch 5/5\n",
            "4688/4688 [==============================] - 52s 11ms/step - loss: 0.1025 - accuracy: 0.9634\n"
          ]
        },
        {
          "output_type": "execute_result",
          "data": {
            "text/plain": [
              "<keras.callbacks.History at 0x7f0d100611d0>"
            ]
          },
          "metadata": {},
          "execution_count": 10
        }
      ],
      "source": [
        "model.fit(xTrain, yTrain, epochs=5)"
      ]
    },
    {
      "cell_type": "markdown",
      "metadata": {
        "id": "L67ZBYFjQlqr"
      },
      "source": [
        "Evaluating on testing dataset"
      ]
    },
    {
      "cell_type": "code",
      "execution_count": 11,
      "metadata": {
        "colab": {
          "base_uri": "https://localhost:8080/"
        },
        "id": "8vCFcJsRQlqs",
        "outputId": "da39e32a-c99b-4aeb-b09d-3c6e44e1c26b"
      },
      "outputs": [
        {
          "output_type": "stream",
          "name": "stdout",
          "text": [
            "1074/1074 [==============================] - 2s 2ms/step - loss: 0.1268 - accuracy: 0.9559\n"
          ]
        },
        {
          "output_type": "execute_result",
          "data": {
            "text/plain": [
              "[0.1267794668674469, 0.9559294581413269]"
            ]
          },
          "metadata": {},
          "execution_count": 11
        }
      ],
      "source": [
        "model.evaluate(xTest, yTest)"
      ]
    },
    {
      "cell_type": "markdown",
      "metadata": {
        "id": "CBMJct8pQlqt"
      },
      "source": [
        "Real life testing"
      ]
    },
    {
      "cell_type": "code",
      "execution_count": 16,
      "metadata": {
        "colab": {
          "base_uri": "https://localhost:8080/"
        },
        "id": "opwI8TPhQlqu",
        "outputId": "5483fe95-c508-4da0-fd77-0577757d5285"
      },
      "outputs": [
        {
          "output_type": "stream",
          "name": "stdout",
          "text": [
            "[[   0    0    0 ...  268  175  467]\n",
            " [   0    0    0 ...  661    5  236]\n",
            " [   0    0    0 ...    7 2414  126]\n",
            " [   0    0    0 ...   98 1104 1893]]\n"
          ]
        },
        {
          "output_type": "execute_result",
          "data": {
            "text/plain": [
              "array([[0.106747  ],\n",
              "       [0.9902535 ],\n",
              "       [0.99791414],\n",
              "       [0.05730198]], dtype=float32)"
            ]
          },
          "metadata": {},
          "execution_count": 16
        }
      ],
      "source": [
        "texts = [\"We are doing our project\", \"you are a piece of shit\", \"you bloody bitch\", \"good night brother\"]\n",
        "\n",
        "sequencedText = tokenizer.texts_to_sequences(texts)\n",
        "\n",
        "paddedText = tf.keras.preprocessing.sequence.pad_sequences(sequencedText, padding='pre', maxlen=1403)\n",
        "print(paddedText)\n",
        "model.predict(paddedText)"
      ]
    },
    {
      "cell_type": "code",
      "source": [
        "text = input()\n",
        "sequencedText = tokenizer.texts_to_sequences([text])\n",
        "\n",
        "paddedText = tf.keras.preprocessing.sequence.pad_sequences(sequencedText, padding='pre', maxlen=1403)\n",
        "print(paddedText)\n",
        "model.predict(paddedText)"
      ],
      "metadata": {
        "id": "L96qiVruXdfG"
      },
      "execution_count": null,
      "outputs": []
    },
    {
      "cell_type": "code",
      "source": [
        "tfjs.converters.save_keras_model(model, '/content/model')"
      ],
      "metadata": {
        "id": "k7g84VkxaNgX"
      },
      "execution_count": 23,
      "outputs": []
    },
    {
      "cell_type": "code",
      "source": [
        "!zip -r /content/file.zip /content/model"
      ],
      "metadata": {
        "colab": {
          "base_uri": "https://localhost:8080/"
        },
        "id": "cR78DjqvdOuc",
        "outputId": "b22e6f32-4144-47e1-9f91-6e6b23e78616"
      },
      "execution_count": 28,
      "outputs": [
        {
          "output_type": "stream",
          "name": "stdout",
          "text": [
            "  adding: content/model/ (stored 0%)\n",
            "  adding: content/model/group1-shard9of14.bin (deflated 7%)\n",
            "  adding: content/model/model.json (deflated 72%)\n",
            "  adding: content/model/group1-shard10of14.bin (deflated 7%)\n",
            "  adding: content/model/group1-shard1of14.bin (deflated 7%)\n",
            "  adding: content/model/group1-shard7of14.bin (deflated 7%)\n",
            "  adding: content/model/group1-shard4of14.bin (deflated 7%)\n",
            "  adding: content/model/group1-shard6of14.bin (deflated 7%)\n",
            "  adding: content/model/group1-shard2of14.bin (deflated 8%)\n",
            "  adding: content/model/group1-shard5of14.bin (deflated 7%)\n",
            "  adding: content/model/group1-shard3of14.bin (deflated 7%)\n",
            "  adding: content/model/group1-shard13of14.bin (deflated 8%)\n",
            "  adding: content/model/group1-shard12of14.bin (deflated 7%)\n",
            "  adding: content/model/group1-shard11of14.bin (deflated 7%)\n",
            "  adding: content/model/group1-shard8of14.bin (deflated 7%)\n",
            "  adding: content/model/group1-shard14of14.bin (deflated 8%)\n"
          ]
        }
      ]
    },
    {
      "cell_type": "code",
      "source": [
        "from google.colab import files\n",
        "files.download('/content/file.zip')"
      ],
      "metadata": {
        "colab": {
          "base_uri": "https://localhost:8080/",
          "height": 17
        },
        "id": "ulPtV_JJbz1b",
        "outputId": "9710acf0-a848-459f-9a77-b0efa0100eeb"
      },
      "execution_count": 29,
      "outputs": [
        {
          "output_type": "display_data",
          "data": {
            "text/plain": [
              "<IPython.core.display.Javascript object>"
            ],
            "application/javascript": [
              "\n",
              "    async function download(id, filename, size) {\n",
              "      if (!google.colab.kernel.accessAllowed) {\n",
              "        return;\n",
              "      }\n",
              "      const div = document.createElement('div');\n",
              "      const label = document.createElement('label');\n",
              "      label.textContent = `Downloading \"${filename}\": `;\n",
              "      div.appendChild(label);\n",
              "      const progress = document.createElement('progress');\n",
              "      progress.max = size;\n",
              "      div.appendChild(progress);\n",
              "      document.body.appendChild(div);\n",
              "\n",
              "      const buffers = [];\n",
              "      let downloaded = 0;\n",
              "\n",
              "      const channel = await google.colab.kernel.comms.open(id);\n",
              "      // Send a message to notify the kernel that we're ready.\n",
              "      channel.send({})\n",
              "\n",
              "      for await (const message of channel.messages) {\n",
              "        // Send a message to notify the kernel that we're ready.\n",
              "        channel.send({})\n",
              "        if (message.buffers) {\n",
              "          for (const buffer of message.buffers) {\n",
              "            buffers.push(buffer);\n",
              "            downloaded += buffer.byteLength;\n",
              "            progress.value = downloaded;\n",
              "          }\n",
              "        }\n",
              "      }\n",
              "      const blob = new Blob(buffers, {type: 'application/binary'});\n",
              "      const a = document.createElement('a');\n",
              "      a.href = window.URL.createObjectURL(blob);\n",
              "      a.download = filename;\n",
              "      div.appendChild(a);\n",
              "      a.click();\n",
              "      div.remove();\n",
              "    }\n",
              "  "
            ]
          },
          "metadata": {}
        },
        {
          "output_type": "display_data",
          "data": {
            "text/plain": [
              "<IPython.core.display.Javascript object>"
            ],
            "application/javascript": [
              "download(\"download_258dd937-3342-4317-a346-5c2e4655b893\", \"file.zip\", 51674414)"
            ]
          },
          "metadata": {}
        }
      ]
    },
    {
      "cell_type": "code",
      "source": [
        "import json\n",
        "\n",
        "x = json.dumps(vocab)\n",
        "y = x.encode('utf-8')\n",
        "with open('tokens.json', 'w') as f:\n",
        "  f.write(str(y))\n",
        "\n",
        "files.download('tokens.json')"
      ],
      "metadata": {
        "colab": {
          "base_uri": "https://localhost:8080/",
          "height": 17
        },
        "id": "0oue_bhvdoQ5",
        "outputId": "d48c6c64-9aec-41eb-c6bc-557bcc26b5ca"
      },
      "execution_count": 30,
      "outputs": [
        {
          "output_type": "display_data",
          "data": {
            "text/plain": [
              "<IPython.core.display.Javascript object>"
            ],
            "application/javascript": [
              "\n",
              "    async function download(id, filename, size) {\n",
              "      if (!google.colab.kernel.accessAllowed) {\n",
              "        return;\n",
              "      }\n",
              "      const div = document.createElement('div');\n",
              "      const label = document.createElement('label');\n",
              "      label.textContent = `Downloading \"${filename}\": `;\n",
              "      div.appendChild(label);\n",
              "      const progress = document.createElement('progress');\n",
              "      progress.max = size;\n",
              "      div.appendChild(progress);\n",
              "      document.body.appendChild(div);\n",
              "\n",
              "      const buffers = [];\n",
              "      let downloaded = 0;\n",
              "\n",
              "      const channel = await google.colab.kernel.comms.open(id);\n",
              "      // Send a message to notify the kernel that we're ready.\n",
              "      channel.send({})\n",
              "\n",
              "      for await (const message of channel.messages) {\n",
              "        // Send a message to notify the kernel that we're ready.\n",
              "        channel.send({})\n",
              "        if (message.buffers) {\n",
              "          for (const buffer of message.buffers) {\n",
              "            buffers.push(buffer);\n",
              "            downloaded += buffer.byteLength;\n",
              "            progress.value = downloaded;\n",
              "          }\n",
              "        }\n",
              "      }\n",
              "      const blob = new Blob(buffers, {type: 'application/binary'});\n",
              "      const a = document.createElement('a');\n",
              "      a.href = window.URL.createObjectURL(blob);\n",
              "      a.download = filename;\n",
              "      div.appendChild(a);\n",
              "      a.click();\n",
              "      div.remove();\n",
              "    }\n",
              "  "
            ]
          },
          "metadata": {}
        },
        {
          "output_type": "display_data",
          "data": {
            "text/plain": [
              "<IPython.core.display.Javascript object>"
            ],
            "application/javascript": [
              "download(\"download_7e00a368-e357-4115-9a47-1f30384a29ef\", \"tokens.json\", 4607421)"
            ]
          },
          "metadata": {}
        }
      ]
    }
  ],
  "metadata": {
    "kernelspec": {
      "display_name": "Python 3.9.12 ('dataScience')",
      "language": "python",
      "name": "python3"
    },
    "language_info": {
      "codemirror_mode": {
        "name": "ipython",
        "version": 3
      },
      "file_extension": ".py",
      "mimetype": "text/x-python",
      "name": "python",
      "nbconvert_exporter": "python",
      "pygments_lexer": "ipython3",
      "version": "3.9.12"
    },
    "orig_nbformat": 4,
    "vscode": {
      "interpreter": {
        "hash": "c4862f49c1d9ea259b4e12bce584cb4149aa42f99c91b8fb9ddf4da21482bc65"
      }
    },
    "colab": {
      "name": "main.ipynb",
      "provenance": [],
      "collapsed_sections": []
    },
    "accelerator": "GPU",
    "gpuClass": "standard"
  },
  "nbformat": 4,
  "nbformat_minor": 0
}